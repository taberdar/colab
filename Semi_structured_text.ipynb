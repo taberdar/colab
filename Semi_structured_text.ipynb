{
  "nbformat": 4,
  "nbformat_minor": 0,
  "metadata": {
    "colab": {
      "name": "Semi structured text",
      "provenance": [],
      "collapsed_sections": [],
      "toc_visible": true,
      "authorship_tag": "ABX9TyO8aGZyJzKPxzwnSc4o5kzM",
      "include_colab_link": true
    },
    "kernelspec": {
      "name": "python3",
      "display_name": "Python 3"
    },
    "language_info": {
      "name": "python"
    }
  },
  "cells": [
    {
      "cell_type": "markdown",
      "metadata": {
        "id": "view-in-github",
        "colab_type": "text"
      },
      "source": [
        "<a href=\"https://colab.research.google.com/github/taberdar/colab/blob/main/Semi_structured_text.ipynb\" target=\"_parent\"><img src=\"https://colab.research.google.com/assets/colab-badge.svg\" alt=\"Open In Colab\"/></a>"
      ]
    },
    {
      "cell_type": "markdown",
      "metadata": {
        "id": "sS79_nlGjLz_"
      },
      "source": [
        "# Semi structured"
      ]
    },
    {
      "cell_type": "code",
      "metadata": {
        "id": "nCjFKvTqf4xY"
      },
      "source": [
        "# This downloads a book\n",
        "import requests\n",
        "example_txt = 'http://gutenberg.org/files/48320/48320-0.txt'\n",
        "book = requests.get(example_txt)\n",
        "with open('/content/book.txt', 'wb') as f:\n",
        "    f.write(book.content)\n",
        "\n",
        "booktext = book.text\n",
        "print(booktext[0:600])"
      ],
      "execution_count": null,
      "outputs": []
    },
    {
      "cell_type": "markdown",
      "metadata": {
        "id": "h-4ym1R6lLgp"
      },
      "source": [
        "## QUESTION: Download the file book.txt. Can you read it? Do you think a computer can read it? Do you think a computer understands it?"
      ]
    },
    {
      "cell_type": "markdown",
      "metadata": {
        "id": "ZfCOcqeQjRll"
      },
      "source": [
        "## ACTIVITY: Count the number of words in this book."
      ]
    },
    {
      "cell_type": "code",
      "metadata": {
        "id": "Z282s5yYjJqI"
      },
      "source": [
        "# This code splits the text into words by assuming a space shows where a word is\n",
        "words = booktext.split(sep=' ')\n",
        "number_of_words = len(words)\n",
        "print(number_of_words)"
      ],
      "execution_count": null,
      "outputs": []
    },
    {
      "cell_type": "code",
      "metadata": {
        "id": "OT5MLPJJrU6A"
      },
      "source": [
        "# But splitting on spaces is a bit rubbish\n",
        "words[0:20]"
      ],
      "execution_count": null,
      "outputs": []
    },
    {
      "cell_type": "code",
      "metadata": {
        "id": "37H3J15bnFhU"
      },
      "source": [
        "# But splitting using space is a bit rubbish\n",
        "# In fact splitting by default treats spaces, tabs and new lines as separators\n",
        "#  (in computer jargon - this is white space)\n",
        "better_words = booktext.split()\n",
        "# So now the word list looks a bit better.\n",
        "better_number_of_words = len(better_words)\n",
        "print(better_number_of_words)\n",
        "better_words[0:20]"
      ],
      "execution_count": null,
      "outputs": []
    },
    {
      "cell_type": "code",
      "metadata": {
        "id": "o5YwN3m7tyv-"
      },
      "source": [
        "# This code works out how many unique words there are\n",
        "wordfreq = []\n",
        "for word in better_words:\n",
        "  if word not in wordfreq:\n",
        "    wordfreq.append(word)\n",
        "\n",
        "len(wordfreq)"
      ],
      "execution_count": null,
      "outputs": []
    },
    {
      "cell_type": "markdown",
      "metadata": {
        "id": "tqCaWfS8ywHU"
      },
      "source": [
        "## QUESTION: How would you count sentences?"
      ]
    },
    {
      "cell_type": "markdown",
      "metadata": {
        "id": "2UWh1y2_MPUb"
      },
      "source": [
        "## QUESTION: Comparing this with reading a JSON or CSV file, is it more or less complicated to write code to process unstructured text?"
      ]
    },
    {
      "cell_type": "markdown",
      "metadata": {
        "id": "SK61qDzo3Csl"
      },
      "source": [
        "## ACTIVITY: Read an unstructured log file"
      ]
    },
    {
      "cell_type": "code",
      "metadata": {
        "id": "06LBml4B2HLG"
      },
      "source": [
        "url = 'https://raw.githubusercontent.com/logpai/loghub/master/Linux/Linux_2k.log'\n",
        "import requests\n",
        "log = requests.get(url)\n",
        "print(log.text[0:2000])"
      ],
      "execution_count": null,
      "outputs": []
    },
    {
      "cell_type": "markdown",
      "metadata": {
        "id": "5UGLDbB43SRa"
      },
      "source": [
        "## QUESTION: How would you process this to get information from it?"
      ]
    },
    {
      "cell_type": "markdown",
      "metadata": {
        "id": "DVZGm-IitVLv"
      },
      "source": [
        "## QUESTION: A computer can read the file but how much work is needed to write the code to read the data so the computer can understand it?"
      ]
    }
  ]
}