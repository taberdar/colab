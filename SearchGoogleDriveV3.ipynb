{
  "nbformat": 4,
  "nbformat_minor": 0,
  "metadata": {
    "colab": {
      "name": " SearchGoogleDriveV3",
      "provenance": [],
      "collapsed_sections": [],
      "include_colab_link": true
    },
    "kernelspec": {
      "name": "python3",
      "display_name": "Python 3"
    }
  },
  "cells": [
    {
      "cell_type": "markdown",
      "metadata": {
        "id": "view-in-github",
        "colab_type": "text"
      },
      "source": [
        "<a href=\"https://colab.research.google.com/github/taberdar/colab/blob/main/SearchGoogleDriveV3.ipynb\" target=\"_parent\"><img src=\"https://colab.research.google.com/assets/colab-badge.svg\" alt=\"Open In Colab\"/></a>"
      ]
    },
    {
      "cell_type": "code",
      "metadata": {
        "id": "UOTT6k83eo-L"
      },
      "source": [
        "# Run this first\n",
        "!apt-get install xattr > /dev/null\n",
        "import pandas as pd\n",
        "import glob\n",
        "import ntpath\n",
        "import os\n",
        "from subprocess import getoutput"
      ],
      "execution_count": null,
      "outputs": []
    },
    {
      "cell_type": "code",
      "metadata": {
        "id": "5MEno71XwmVC"
      },
      "source": [
        "# Run this to authorise connection to your Google Drive\n",
        "# You will have to use the browser to accept the terms\n",
        "# Then you paste the sequence of letters and numbers into the small box that will appear\n",
        "# Then press enter\n",
        "from google.colab import drive\n",
        "drive.mount('/content/drive')"
      ],
      "execution_count": null,
      "outputs": []
    },
    {
      "cell_type": "code",
      "metadata": {
        "id": "1nJP17k0-T3V"
      },
      "source": [
        "# Find all the files in Google Drive\n",
        "# glob.glob just does a search \n",
        "#  the ** means find anything \n",
        "#  recursive=True means go into all the folders\n",
        "files = glob.glob('/content/drive/MyDrive/**/*', recursive=True)\n",
        "\n",
        "# find whether file is a folder or a file\n",
        "fileorfolder = [[file, os.path.isfile(file)] for file in files]\n",
        "# only keep files\n",
        "filesonly = [file[0] for file in fileorfolder if file[1] == True]\n",
        "# Then find some useful information about each file\n",
        "file_basename = [os.path.basename(file) for file in filesonly]\n",
        "file_extension = [os.path.splitext(file)[1] for file in filesonly]"
      ],
      "execution_count": null,
      "outputs": []
    },
    {
      "cell_type": "code",
      "metadata": {
        "id": "smOoXSqVto8S"
      },
      "source": [
        "# Use an advanced command to find some extra details about the file\n",
        "# We will find the drive id which we will then be able to use as a link\n",
        "#  so we can click and go straight to the file.\n",
        "\n",
        "# Be patient - this can take a few minutes\n",
        "\n",
        "l1 = \"xattr -p 'user.drive.id' '\"\n",
        "#l2 = \"https://colab.research.google.com/drive/\"\n",
        "l2 = \"https://drive.google.com/file/d/\"\n",
        "locs = [l2 + getoutput(l1 + f + \"'\") for f in filesonly]"
      ],
      "execution_count": null,
      "outputs": []
    },
    {
      "cell_type": "code",
      "metadata": {
        "id": "mr7d8jOtxl0_"
      },
      "source": [
        "# Make a data frame\n",
        "files_df = pd.DataFrame()\n",
        "files_df['FullFilename'] = filesonly\n",
        "files_df['BaseFilename'] = file_basename\n",
        "files_df['Extension'] = file_extension\n",
        "files_df['Download'] = locs"
      ],
      "execution_count": null,
      "outputs": []
    },
    {
      "cell_type": "code",
      "metadata": {
        "id": "UUDqjlKzlC1b"
      },
      "source": [
        "# Save it as an html page so we can use a browser to go to files\n",
        "files_df.to_html('files_df.html', render_links=True)"
      ],
      "execution_count": null,
      "outputs": []
    }
  ]
}