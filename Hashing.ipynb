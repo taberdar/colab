{
  "nbformat": 4,
  "nbformat_minor": 0,
  "metadata": {
    "colab": {
      "name": "Hashing",
      "provenance": [],
      "collapsed_sections": [],
      "authorship_tag": "ABX9TyPRdXyG/3MLK8dBAK7DTbWZ",
      "include_colab_link": true
    },
    "kernelspec": {
      "name": "python3",
      "display_name": "Python 3"
    }
  },
  "cells": [
    {
      "cell_type": "markdown",
      "metadata": {
        "id": "view-in-github",
        "colab_type": "text"
      },
      "source": [
        "<a href=\"https://colab.research.google.com/github/taberdar/colab/blob/main/Hashing.ipynb\" target=\"_parent\"><img src=\"https://colab.research.google.com/assets/colab-badge.svg\" alt=\"Open In Colab\"/></a>"
      ]
    },
    {
      "cell_type": "code",
      "metadata": {
        "id": "YbcdHnTeeye1"
      },
      "source": [
        "#This limerick has one obvious grammatical error\n",
        "import hashlib\n",
        "textwitherrors = \"There was a young fellow from Hyde,\\r\\nWho fell down a sewer and died.\\r\\nAlas, his poor brother,\\r\\nFell down another.\\r\\nNow theyre interred side by side.\"\n",
        "errorhash = hashlib.sha512(textwitherrors.encode('utf8')).hexdigest()\n",
        "print(textwitherrors)\n",
        "print()\n",
        "print(errorhash)"
      ],
      "execution_count": null,
      "outputs": []
    },
    {
      "cell_type": "code",
      "metadata": {
        "id": "sG5o64E-gCAG"
      },
      "source": [
        "# Fix the error and get a new hash\n",
        "textwithfixes = \"There was a young fellow from Hyde,\\r\\nWho fell down a sewer and died.\\r\\nAlas, his poor brother,\\r\\nFell down another.\\r\\nNow theyre interred side by side.\"\n",
        "fixedhash = hashlib.sha512(textwithfixes.encode('utf8')).hexdigest()\n",
        "print(textwithfixes)\n",
        "print()\n",
        "print(fixedhash)"
      ],
      "execution_count": null,
      "outputs": []
    },
    {
      "cell_type": "code",
      "metadata": {
        "id": "DMjlXQ_0oKpB"
      },
      "source": [
        "# Once you get this result, you have found and corrected the error\n",
        "expectedhash = \"6aa3113f274c27c2782b264c02f830844a33ef57d00c69c94a42034266b1a344ccbd47a09ea794fea26136e2fdf010b27a5154bcba912a03f149e27c6fc5ed20\"\n",
        "\"Fixed it :)\" if expectedhash == fixedhash else \"Not fixed :(\""
      ],
      "execution_count": null,
      "outputs": []
    },
    {
      "cell_type": "code",
      "metadata": {
        "id": "ZTL4UpVwPENz"
      },
      "source": [
        "# Now try some of your own text to see what the hash looks like\n",
        "mytext = \"asd\"\n",
        "hashlib.sha512(mytext.encode('utf8')).hexdigest()"
      ],
      "execution_count": null,
      "outputs": []
    },
    {
      "cell_type": "code",
      "metadata": {
        "id": "UxcDwf22o2EM"
      },
      "source": [
        "# Now try some of your own text to see what the hash looks like\n",
        "mytext = \"latour2013\"\n",
        "hashlib.sha512(mytext.encode('utf8')).hexdigest()"
      ],
      "execution_count": null,
      "outputs": []
    },
    {
      "cell_type": "code",
      "metadata": {
        "id": "Llt1_WQi8LR-"
      },
      "source": [
        "# Try a password and submit it to https://crackstation.net/\n",
        "# If your password has been seen before, it will exist in their \n",
        "# database - so if it does, you should not use the password"
      ],
      "execution_count": null,
      "outputs": []
    },
    {
      "cell_type": "code",
      "metadata": {
        "id": "vidV27Ca5BFu"
      },
      "source": [
        "# Whatever the size of the input, the hash is always the same length\n",
        "# The text string below is 1000000 characters long \n",
        "# But the hash is the same length\n",
        "import random\n",
        "import string\n",
        "letters = string.ascii_lowercase\n",
        "shortstring = letters[0]\n",
        "# a 1000000 character string\n",
        "longstring = ''.join(random.choice(letters) for i in range(1000000))\n",
        "print('The hash of a million character string')\n",
        "print(hashlib.sha512(longstring.encode('utf8')).hexdigest())\n",
        "print('The hash of a one character string')\n",
        "print(hashlib.sha512(shortstring.encode('utf8')).hexdigest())"
      ],
      "execution_count": null,
      "outputs": []
    }
  ]
}