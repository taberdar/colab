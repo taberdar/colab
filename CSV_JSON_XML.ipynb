{
  "nbformat": 4,
  "nbformat_minor": 0,
  "metadata": {
    "colab": {
      "name": "CSV_JSON_XML",
      "provenance": [],
      "collapsed_sections": [
        "vVRZn9kqTIxg"
      ],
      "toc_visible": true,
      "authorship_tag": "ABX9TyNMHRnzAKUDsc5WFIhdK3Nu",
      "include_colab_link": true
    },
    "kernelspec": {
      "name": "python3",
      "display_name": "Python 3"
    }
  },
  "cells": [
    {
      "cell_type": "markdown",
      "metadata": {
        "id": "view-in-github",
        "colab_type": "text"
      },
      "source": [
        "<a href=\"https://colab.research.google.com/github/taberdar/colab/blob/main/CSV_JSON_XML.ipynb\" target=\"_parent\"><img src=\"https://colab.research.google.com/assets/colab-badge.svg\" alt=\"Open In Colab\"/></a>"
      ]
    },
    {
      "cell_type": "markdown",
      "metadata": {
        "id": "suIQ4QB1TAMf"
      },
      "source": [
        "# Data formats"
      ]
    },
    {
      "cell_type": "markdown",
      "metadata": {
        "id": "vVRZn9kqTIxg"
      },
      "source": [
        "## Run this cell first then run the cells in order one by one"
      ]
    },
    {
      "cell_type": "code",
      "metadata": {
        "id": "b9ZJwxBKX0Ah",
        "colab": {
          "base_uri": "https://localhost:8080/"
        },
        "outputId": "65d8328b-223c-4fff-83d1-f9b05b926289"
      },
      "source": [
        "#@title Run me first\n",
        "import pandas as pd\n",
        "import yaml\n",
        "import os.path\n",
        "fileexists = os.path.isfile('/content/sampledata/ESP/USDtoGBP.csv') \n",
        "if fileexists:\n",
        "  pass\n",
        "else:\n",
        "  !rm -rf sampledata\n",
        "  !git clone https://github.com/awchisholm/sampledata.git"
      ],
      "execution_count": null,
      "outputs": [
        {
          "output_type": "stream",
          "text": [
            "Cloning into 'sampledata'...\n",
            "remote: Enumerating objects: 184, done.\u001b[K\n",
            "remote: Counting objects: 100% (184/184), done.\u001b[K\n",
            "remote: Compressing objects: 100% (158/158), done.\u001b[K\n",
            "remote: Total 184 (delta 64), reused 110 (delta 22), pack-reused 0\u001b[K\n",
            "Receiving objects: 100% (184/184), 16.65 MiB | 26.16 MiB/s, done.\n",
            "Resolving deltas: 100% (64/64), done.\n"
          ],
          "name": "stdout"
        }
      ]
    },
    {
      "cell_type": "markdown",
      "metadata": {
        "id": "9C7hXR7fF85r"
      },
      "source": [
        "## CSV\n"
      ]
    },
    {
      "cell_type": "markdown",
      "metadata": {
        "id": "NOD0Pq6FTQaK"
      },
      "source": [
        "### Read a CSV file into a Pandas dataframe"
      ]
    },
    {
      "cell_type": "code",
      "metadata": {
        "id": "g-ufqJf7ZlwS"
      },
      "source": [
        "currency = pd.read_csv('/content/sampledata/ESP/USDtoGBP.csv', index_col=None)\n",
        "currency.head()"
      ],
      "execution_count": null,
      "outputs": []
    },
    {
      "cell_type": "markdown",
      "metadata": {
        "id": "oDJ8_OGTDIfn"
      },
      "source": [
        "### ACTIVITY: Fix the dodgy CSV file\n",
        "\n",
        "See if you can fix the problem with the CSV file\n",
        "\n",
        "You will have to download it, edit it then upload it back to Colab"
      ]
    },
    {
      "cell_type": "code",
      "metadata": {
        "id": "dGkLI-0KDHZZ"
      },
      "source": [
        "# See if you can fix the problem with the CSV file\n",
        "# You will have to download it, edit it then upload it back to Colab\n",
        "ps3_dodgy = pd.read_csv('/content/sampledata/pandas/ps3_small_dodgy.csv')\n",
        "ps3_dodgy.head()"
      ],
      "execution_count": null,
      "outputs": []
    },
    {
      "cell_type": "markdown",
      "metadata": {
        "id": "PFDgMTh5IgM2"
      },
      "source": [
        "### Successfully reading the dodgy file now it's been fixed"
      ]
    },
    {
      "cell_type": "code",
      "metadata": {
        "id": "gqNKmlQFINnn"
      },
      "source": [
        "ps3_ok = pd.read_csv('/content/sampledata/pandas/ps3_small_ok.csv')\n",
        "ps3_ok.head()"
      ],
      "execution_count": null,
      "outputs": []
    },
    {
      "cell_type": "markdown",
      "metadata": {
        "id": "iKi45DiTXr6-"
      },
      "source": [
        "### QUESTION: What could be a problem with using CSV files to exchange data?"
      ]
    },
    {
      "cell_type": "markdown",
      "metadata": {
        "id": "z7PI4AR8GCm8"
      },
      "source": [
        "## JSON"
      ]
    },
    {
      "cell_type": "markdown",
      "metadata": {
        "id": "IcJ4rR4nTYdI"
      },
      "source": [
        "### Write a Pandas dataframe to a JSON file\n"
      ]
    },
    {
      "cell_type": "code",
      "metadata": {
        "id": "Cw-MYujCZrb3"
      },
      "source": [
        "ps3_ok.to_json('ps3_ok.json')"
      ],
      "execution_count": null,
      "outputs": []
    },
    {
      "cell_type": "markdown",
      "metadata": {
        "id": "N7zep9pnX1jL"
      },
      "source": [
        "### ACTIVITY: Download the JSON file\n",
        "\n",
        "Use a text editor like Notepad to view it\n",
        "\n",
        "Paste the contents of the file into http://jsonviewer.stack.hu/ to view it\n"
      ]
    },
    {
      "cell_type": "markdown",
      "metadata": {
        "id": "RUJcvTtTUhw8"
      },
      "source": [
        "### Read a JSON file into a Pandas dataframe"
      ]
    },
    {
      "cell_type": "code",
      "metadata": {
        "id": "Kq8q4ZIjUgSZ"
      },
      "source": [
        "ps3_ok_json = pd.read_json('ps3_ok.json')\n",
        "ps3_ok_json.head()"
      ],
      "execution_count": null,
      "outputs": []
    },
    {
      "cell_type": "markdown",
      "metadata": {
        "id": "ZJNV0vBiYj06"
      },
      "source": [
        "### QUESTION: How easy is it to read a JSON file?"
      ]
    },
    {
      "cell_type": "markdown",
      "metadata": {
        "id": "MWcw8qMFGrsZ"
      },
      "source": [
        "## XML\n"
      ]
    },
    {
      "cell_type": "markdown",
      "metadata": {
        "id": "O9XPCmhATXuJ"
      },
      "source": [
        "### Write a Pandas dataframe to an XML file\n"
      ]
    },
    {
      "cell_type": "code",
      "metadata": {
        "id": "EHGChdK6NgC9"
      },
      "source": [
        "ps3_ok_for_xml = ps3_ok.copy()\n",
        "# XML requires things in double quotes so you have to convert numbers to strings\n",
        "ps3_ok_for_xml = ps3_ok_for_xml.astype(str)\n",
        "import xml.etree.ElementTree as etree\n",
        "root = etree.Element('data')\n",
        "for i,row in ps3_ok_for_xml.iterrows():\n",
        "  item = etree.SubElement(root, 'item')\n",
        "  name = etree.SubElement(item, 'Name')\n",
        "  name.text = row['Name']\n",
        "  platform = etree.SubElement(item, 'Platform')\n",
        "  platform.text = row['Platform']\n",
        "  year = etree.SubElement(item, 'Year')\n",
        "  year.text = row['Year']\n",
        "  genre = etree.SubElement(item, 'Genre')\n",
        "  genre.text = row['Genre']\n",
        "  publisher = etree.SubElement(item, 'Publisher')\n",
        "  publisher.text = row['Publisher']\n",
        "  na_sales = etree.SubElement(item, 'NA_Sales')\n",
        "  na_sales.text = row['NA_Sales']\n",
        "  jp_sales = etree.SubElement(item, 'JP_Sales')\n",
        "  jp_sales.text = row['JP_Sales']\n",
        "  other_sales = etree.SubElement(item, 'Other_Sales')\n",
        "  other_sales.text = row['Other_Sales']\n",
        "  global_sales = etree.SubElement(item, 'Global_Sales')\n",
        "  global_sales.text = row['Global_Sales']\n",
        "\n",
        "tree = etree.ElementTree(root)\n",
        "tree.write('ps3_ok.xml')"
      ],
      "execution_count": null,
      "outputs": []
    },
    {
      "cell_type": "markdown",
      "metadata": {
        "id": "tojd3yo-YuH5"
      },
      "source": [
        "### ACTIVITY: Download the XML file\n",
        "\n",
        "Use a text editor like Notepad to view it\n",
        "\n",
        "Paste the contents into this site to view it https://jsonformatter.org/xml-viewer\n",
        "\n"
      ]
    },
    {
      "cell_type": "markdown",
      "metadata": {
        "id": "Oq_jeUYdYGRh"
      },
      "source": [
        "### Read an XML file and make it fit into a Pandas dataframe"
      ]
    },
    {
      "cell_type": "markdown",
      "metadata": {
        "id": "aJWA2BrRNT0V"
      },
      "source": [
        "#### Using standard element tree library\n",
        "\n",
        "Harder\n",
        "\n"
      ]
    },
    {
      "cell_type": "code",
      "metadata": {
        "id": "Sg5NIguiNSgG"
      },
      "source": [
        "import xml.etree.ElementTree as ET\n",
        "import pandas as pd\n",
        "\n",
        "xml_data = open('/content/ps3_ok.xml', 'r').read()  # Read file\n",
        "root = ET.XML(xml_data)  # Parse XML\n",
        "\n",
        "data = []\n",
        "cols = []\n",
        "for i, child in enumerate(root):\n",
        "    data.append([subchild.text for subchild in child])\n",
        "    newcols = [s.tag for s in child]\n",
        "    if newcols not in cols:\n",
        "        cols.append(newcols)\n",
        "\n",
        "df = pd.DataFrame(data)  # Write in DF and transpose it\n",
        "df.columns = cols  # Update column names\n",
        "df.head()"
      ],
      "execution_count": null,
      "outputs": []
    },
    {
      "cell_type": "markdown",
      "metadata": {
        "id": "N9QM-wwANY-V"
      },
      "source": [
        "#### Using pandas_read_xml library\n",
        "\n",
        "Easier but you have to install the library first\n"
      ]
    },
    {
      "cell_type": "code",
      "metadata": {
        "id": "6CC-qmI5tAxk"
      },
      "source": [
        "!pip install pandas_read_xml"
      ],
      "execution_count": null,
      "outputs": []
    },
    {
      "cell_type": "code",
      "metadata": {
        "id": "caqVKbLytXAC"
      },
      "source": [
        "import pandas_read_xml as pdx\n",
        "df = pdx.read_xml('/content/ps3_ok.xml', ['data', 'item'])\n",
        "df.head()"
      ],
      "execution_count": null,
      "outputs": []
    },
    {
      "cell_type": "markdown",
      "metadata": {
        "id": "DnjIYC2WUSYD"
      },
      "source": [
        "## QUESTION: Which is easier for a person to read? XML or JSON?\n",
        "\n",
        "\n"
      ]
    },
    {
      "cell_type": "markdown",
      "metadata": {
        "id": "GartFEhuZVjC"
      },
      "source": [
        "## QUESTION: Which is easier for a person to read? XML or JSON?"
      ]
    },
    {
      "cell_type": "markdown",
      "metadata": {
        "id": "EnBB1U8hZieL"
      },
      "source": [
        "## QUESTION: Why would it be better to send large data files using XML or JSON?"
      ]
    },
    {
      "cell_type": "markdown",
      "metadata": {
        "id": "xFWncp4lKfZC"
      },
      "source": [
        "# Optional from here on..."
      ]
    },
    {
      "cell_type": "markdown",
      "metadata": {
        "id": "WI9xzTfNG6An"
      },
      "source": [
        "## HTML"
      ]
    },
    {
      "cell_type": "markdown",
      "metadata": {
        "id": "-ezthhnNPpsa"
      },
      "source": [
        "### Write a Pandas dataframe to an HTML file"
      ]
    },
    {
      "cell_type": "code",
      "metadata": {
        "id": "Dx2NwvZEPsCw"
      },
      "source": [
        "ps3_ok.to_html('ps3_ok.html')"
      ],
      "execution_count": null,
      "outputs": []
    },
    {
      "cell_type": "markdown",
      "metadata": {
        "id": "iDmRbDb1SBJZ"
      },
      "source": [
        "### Read from an HTML file into a Pandas dataframe"
      ]
    },
    {
      "cell_type": "code",
      "metadata": {
        "id": "q7cc-MApQns9"
      },
      "source": [
        "currency_html = pd.read_html('/content/ps3_ok.html')\n",
        "currency_html[0].head()"
      ],
      "execution_count": null,
      "outputs": []
    },
    {
      "cell_type": "markdown",
      "metadata": {
        "id": "kcA-6seXae-D"
      },
      "source": [
        "## QUESTION: Is HTML most like XML or JSON?"
      ]
    },
    {
      "cell_type": "markdown",
      "metadata": {
        "id": "YVnFJ9cdHBTz"
      },
      "source": [
        "## YAML"
      ]
    },
    {
      "cell_type": "markdown",
      "metadata": {
        "id": "K_gA6-RrwZQK"
      },
      "source": [
        "### Read a YAML file into a Python dictionary"
      ]
    },
    {
      "cell_type": "code",
      "metadata": {
        "id": "NGUJZyPu0bDW"
      },
      "source": [
        "import yaml\n",
        "\n",
        "with open('/content/sampledata/yaml/mc.yml', 'r') as stream:\n",
        "  config_yaml = yaml.safe_load(stream)#, Loader=yaml.FullLoader)\n",
        "\n",
        "config_yaml"
      ],
      "execution_count": null,
      "outputs": []
    },
    {
      "cell_type": "markdown",
      "metadata": {
        "id": "OTWtdDsQ6j_0"
      },
      "source": [
        "### Write a changed Python dictionary to a YAML file "
      ]
    },
    {
      "cell_type": "code",
      "metadata": {
        "id": "8Kh60t6m3YXa"
      },
      "source": [
        "# Add a new entry\n",
        "config_yaml['DRAGON'] = 100\n",
        "\n",
        "with open('/content/changed_mc.yml', 'w') as stream:\n",
        "  yaml.dump(config_yaml, stream, default_flow_style=False)"
      ],
      "execution_count": null,
      "outputs": []
    },
    {
      "cell_type": "markdown",
      "metadata": {
        "id": "lMaP0eMOZw6Q"
      },
      "source": [
        "## ACTIVITY: Have a look at the YAML files. Are they closest to XML or JSON?"
      ]
    },
    {
      "cell_type": "markdown",
      "metadata": {
        "id": "A-OoOyOBaXDq"
      },
      "source": [
        "## QUESTION: What would YAML files be useful for?"
      ]
    }
  ]
}