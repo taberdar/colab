{
  "nbformat": 4,
  "nbformat_minor": 0,
  "metadata": {
    "colab": {
      "name": "Symmetric simple",
      "provenance": [],
      "collapsed_sections": [],
      "authorship_tag": "ABX9TyNw0wXZGZexNNGM0tyBKZQ/",
      "include_colab_link": true
    },
    "kernelspec": {
      "name": "python3",
      "display_name": "Python 3"
    }
  },
  "cells": [
    {
      "cell_type": "markdown",
      "metadata": {
        "id": "view-in-github",
        "colab_type": "text"
      },
      "source": [
        "<a href=\"https://colab.research.google.com/github/taberdar/colab/blob/main/Symmetric_simple.ipynb\" target=\"_parent\"><img src=\"https://colab.research.google.com/assets/colab-badge.svg\" alt=\"Open In Colab\"/></a>"
      ]
    },
    {
      "cell_type": "code",
      "metadata": {
        "id": "MXYbUWyiOQcs"
      },
      "source": [
        "!pip install pycrypto\n",
        "from Crypto.Cipher import XOR\n",
        "import base64\n",
        "\n",
        "def encrypt(key, plaintext):\n",
        "  cipher = XOR.new(key)\n",
        "  encrypted = base64.b64encode(cipher.encrypt(plaintext)).decode('utf8')\n",
        "  return encrypted\n",
        "\n",
        "def decrypt(key, ciphertext):\n",
        "  cipher = XOR.new(key)\n",
        "  decrypted = cipher.decrypt(base64.b64decode(ciphertext.encode('utf8'))).decode('utf8')\n",
        "  return decrypted"
      ],
      "execution_count": null,
      "outputs": []
    },
    {
      "cell_type": "code",
      "metadata": {
        "id": "BOJAazLIOfdS"
      },
      "source": [
        "mymessage = \"Ash is getting his hair cut soon\"\n",
        "mysecretpasswordkey = 'wobble'\n",
        "print('My original message is: ', mymessage)\n",
        "cipher = encrypt(mysecretpasswordkey, mymessage)\n",
        "print('The encrypted version of this is: ', cipher)\n",
        "message = decrypt(mysecretpasswordkey, cipher)\n",
        "print(\"The decrypted message is: \", message)"
      ],
      "execution_count": null,
      "outputs": []
    },
    {
      "cell_type": "code",
      "metadata": {
        "id": "sY97oo95ea6i"
      },
      "source": [
        "mymessage = \"Hello, my name is Michael Caine.\"\n",
        "mysecretpasswordkey = 'secret1'\n",
        "cipher = encrypt(mysecretpasswordkey, mymessage)\n",
        "anothersecretpasswordkey = 'password'\n",
        "doesntwork = decrypt(anothersecretpasswordkey, cipher)\n",
        "print(\"If I use this key:\", anothersecretpasswordkey, \": I get rubbish--> \", doesntwork)\n",
        "print()\n",
        "doeswork = decrypt(mysecretpasswordkey, cipher)\n",
        "print(\"But if I use this key:\", mysecretpasswordkey, \": I get this-->\",  doeswork)"
      ],
      "execution_count": null,
      "outputs": []
    },
    {
      "cell_type": "code",
      "metadata": {
        "id": "93n9p1WQh-Pd"
      },
      "source": [
        "# Create yourself a secret password key and a message you want to keep secret,\n",
        "# and encrypt it.\n",
        "# What do you need to do to allow someone else to decrypt the message?"
      ],
      "execution_count": null,
      "outputs": []
    }
  ]
}