{
  "nbformat": 4,
  "nbformat_minor": 0,
  "metadata": {
    "colab": {
      "name": "ESP_task_4a student.ipynb",
      "provenance": [],
      "collapsed_sections": [],
      "include_colab_link": true
    },
    "kernelspec": {
      "name": "python3",
      "display_name": "Python 3"
    },
    "language_info": {
      "name": "python"
    }
  },
  "cells": [
    {
      "cell_type": "markdown",
      "metadata": {
        "id": "view-in-github",
        "colab_type": "text"
      },
      "source": [
        "<a href=\"https://colab.research.google.com/github/taberdar/colab/blob/main/ESP_task_4a_student.ipynb\" target=\"_parent\"><img src=\"https://colab.research.google.com/assets/colab-badge.svg\" alt=\"Open In Colab\"/></a>"
      ]
    },
    {
      "cell_type": "markdown",
      "metadata": {
        "id": "CVft7QrzHSeY"
      },
      "source": [
        "# Pandas and matplotlib prompt sheet for ESP"
      ]
    },
    {
      "cell_type": "markdown",
      "metadata": {
        "id": "Yi9UFGiRHZWC"
      },
      "source": [
        "## Run this first \n",
        "\n",
        "then the others in order \n",
        "\n",
        "or run the whole lot"
      ]
    },
    {
      "cell_type": "code",
      "metadata": {
        "id": "w8GSDy9PHRS3"
      },
      "source": [
        "import pandas as pd\n",
        "import matplotlib.pyplot as plt\n",
        "import os.path\n",
        "if not os.path.isfile('sampledata/ESP/Shoes.csv') :\n",
        "  !rm -rf sampledata\n",
        "  !git clone https://github.com/awchisholm/sampledata.git"
      ],
      "execution_count": null,
      "outputs": []
    },
    {
      "cell_type": "markdown",
      "metadata": {
        "id": "3jjujloXD6B7"
      },
      "source": [
        "## Read the csv file /content/sampledata/ESP/Shoes.csv into a pandas data frame - make sure you read the date column in \n",
        "\n",
        "Google for the parameter `parse_dates` to the function `pd.read_csv`\n"
      ]
    },
    {
      "cell_type": "code",
      "metadata": {
        "id": "4fZLYixQS1lD",
        "colab": {
          "base_uri": "https://localhost:8080/",
          "height": 195
        },
        "outputId": "3c44d707-0755-4228-861c-8ffe43262e1a"
      },
      "source": [
        "shoes = pd.read_csv('/content/sampledata/ESP/Shoes.csv', parse_dates=['Date']) # # create data frame called shoes from a csv file\n",
        "shoes.head()"
      ],
      "execution_count": null,
      "outputs": [
        {
          "output_type": "execute_result",
          "data": {
            "text/html": [
              "<div>\n",
              "<style scoped>\n",
              "    .dataframe tbody tr th:only-of-type {\n",
              "        vertical-align: middle;\n",
              "    }\n",
              "\n",
              "    .dataframe tbody tr th {\n",
              "        vertical-align: top;\n",
              "    }\n",
              "\n",
              "    .dataframe thead th {\n",
              "        text-align: right;\n",
              "    }\n",
              "</style>\n",
              "<table border=\"1\" class=\"dataframe\">\n",
              "  <thead>\n",
              "    <tr style=\"text-align: right;\">\n",
              "      <th></th>\n",
              "      <th>Name</th>\n",
              "      <th>Show</th>\n",
              "      <th>Unit price GBP</th>\n",
              "      <th>Quantity bought</th>\n",
              "      <th>Discount percent</th>\n",
              "      <th>Date</th>\n",
              "    </tr>\n",
              "  </thead>\n",
              "  <tbody>\n",
              "    <tr>\n",
              "      <th>0</th>\n",
              "      <td>Ash</td>\n",
              "      <td>Adidas continental 80</td>\n",
              "      <td>80.0</td>\n",
              "      <td>1</td>\n",
              "      <td>1</td>\n",
              "      <td>2020-01-10</td>\n",
              "    </tr>\n",
              "    <tr>\n",
              "      <th>1</th>\n",
              "      <td>Joe</td>\n",
              "      <td>Adidas Falcon</td>\n",
              "      <td>43.0</td>\n",
              "      <td>1</td>\n",
              "      <td>10</td>\n",
              "      <td>2020-06-10</td>\n",
              "    </tr>\n",
              "    <tr>\n",
              "      <th>2</th>\n",
              "      <td>Tom</td>\n",
              "      <td>Adidas Originals ZX 750</td>\n",
              "      <td>80.0</td>\n",
              "      <td>1</td>\n",
              "      <td>0</td>\n",
              "      <td>2020-11-10</td>\n",
              "    </tr>\n",
              "    <tr>\n",
              "      <th>3</th>\n",
              "      <td>Jack</td>\n",
              "      <td>Adidas Originals ZX Flux</td>\n",
              "      <td>80.0</td>\n",
              "      <td>1</td>\n",
              "      <td>10</td>\n",
              "      <td>2020-10-16</td>\n",
              "    </tr>\n",
              "    <tr>\n",
              "      <th>4</th>\n",
              "      <td>Will</td>\n",
              "      <td>Adidas Yeezy Boost 350 V2 Cloud White (Non-Ref...</td>\n",
              "      <td>300.0</td>\n",
              "      <td>1</td>\n",
              "      <td>0</td>\n",
              "      <td>2020-10-21</td>\n",
              "    </tr>\n",
              "  </tbody>\n",
              "</table>\n",
              "</div>"
            ],
            "text/plain": [
              "   Name  ...       Date\n",
              "0   Ash  ... 2020-01-10\n",
              "1   Joe  ... 2020-06-10\n",
              "2   Tom  ... 2020-11-10\n",
              "3  Jack  ... 2020-10-16\n",
              "4  Will  ... 2020-10-21\n",
              "\n",
              "[5 rows x 6 columns]"
            ]
          },
          "metadata": {
            "tags": []
          },
          "execution_count": 38
        }
      ]
    },
    {
      "cell_type": "markdown",
      "metadata": {
        "id": "KPNIP4V7FONy"
      },
      "source": [
        "## Create a new data frame column called `Price offered`.\n",
        "\n",
        "Do this by multiplying the `Unit price GBP` column by the `Quantity bought` column."
      ]
    },
    {
      "cell_type": "code",
      "metadata": {
        "id": "5g5fnD79FAAe",
        "colab": {
          "base_uri": "https://localhost:8080/",
          "height": 195
        },
        "outputId": "1e800a8e-7851-4dd2-dd7f-006c0611bf5c"
      },
      "source": [
        "shoes['Price offered'] = shoes['Unit price GBP'] * shoes['Quantity bought']  # calculate the price offered by multiplying unit price by quantity bought and make a new data frame column\n",
        "shoes.head()  # print out the first 5 rows  "
      ],
      "execution_count": null,
      "outputs": [
        {
          "output_type": "execute_result",
          "data": {
            "text/html": [
              "<div>\n",
              "<style scoped>\n",
              "    .dataframe tbody tr th:only-of-type {\n",
              "        vertical-align: middle;\n",
              "    }\n",
              "\n",
              "    .dataframe tbody tr th {\n",
              "        vertical-align: top;\n",
              "    }\n",
              "\n",
              "    .dataframe thead th {\n",
              "        text-align: right;\n",
              "    }\n",
              "</style>\n",
              "<table border=\"1\" class=\"dataframe\">\n",
              "  <thead>\n",
              "    <tr style=\"text-align: right;\">\n",
              "      <th></th>\n",
              "      <th>Name</th>\n",
              "      <th>Show</th>\n",
              "      <th>Unit price GBP</th>\n",
              "      <th>Quantity bought</th>\n",
              "      <th>Discount percent</th>\n",
              "      <th>Date</th>\n",
              "      <th>Price offered</th>\n",
              "    </tr>\n",
              "  </thead>\n",
              "  <tbody>\n",
              "    <tr>\n",
              "      <th>0</th>\n",
              "      <td>Ash</td>\n",
              "      <td>Adidas continental 80</td>\n",
              "      <td>80.0</td>\n",
              "      <td>1</td>\n",
              "      <td>1</td>\n",
              "      <td>2020-01-10</td>\n",
              "      <td>80.0</td>\n",
              "    </tr>\n",
              "    <tr>\n",
              "      <th>1</th>\n",
              "      <td>Joe</td>\n",
              "      <td>Adidas Falcon</td>\n",
              "      <td>43.0</td>\n",
              "      <td>1</td>\n",
              "      <td>10</td>\n",
              "      <td>2020-06-10</td>\n",
              "      <td>43.0</td>\n",
              "    </tr>\n",
              "    <tr>\n",
              "      <th>2</th>\n",
              "      <td>Tom</td>\n",
              "      <td>Adidas Originals ZX 750</td>\n",
              "      <td>80.0</td>\n",
              "      <td>1</td>\n",
              "      <td>0</td>\n",
              "      <td>2020-11-10</td>\n",
              "      <td>80.0</td>\n",
              "    </tr>\n",
              "    <tr>\n",
              "      <th>3</th>\n",
              "      <td>Jack</td>\n",
              "      <td>Adidas Originals ZX Flux</td>\n",
              "      <td>80.0</td>\n",
              "      <td>1</td>\n",
              "      <td>10</td>\n",
              "      <td>2020-10-16</td>\n",
              "      <td>80.0</td>\n",
              "    </tr>\n",
              "    <tr>\n",
              "      <th>4</th>\n",
              "      <td>Will</td>\n",
              "      <td>Adidas Yeezy Boost 350 V2 Cloud White (Non-Ref...</td>\n",
              "      <td>300.0</td>\n",
              "      <td>1</td>\n",
              "      <td>0</td>\n",
              "      <td>2020-10-21</td>\n",
              "      <td>300.0</td>\n",
              "    </tr>\n",
              "  </tbody>\n",
              "</table>\n",
              "</div>"
            ],
            "text/plain": [
              "   Name  ... Price offered\n",
              "0   Ash  ...          80.0\n",
              "1   Joe  ...          43.0\n",
              "2   Tom  ...          80.0\n",
              "3  Jack  ...          80.0\n",
              "4  Will  ...         300.0\n",
              "\n",
              "[5 rows x 7 columns]"
            ]
          },
          "metadata": {
            "tags": []
          },
          "execution_count": 39
        }
      ]
    },
    {
      "cell_type": "markdown",
      "metadata": {
        "id": "bzmzwTLyGtSA"
      },
      "source": [
        "## Create a new data frame column called `Price paid`\n",
        "\n",
        "Do this by multiplying the `Price offered` column by the `Discount percent` column and multiplying by 100 to get the discount. Then subtract this from `Price offered` to get the final `Price paid`.\n",
        "\n",
        "You can do it in one line but if you prefer you can do it in multiple lines.\n",
        "\n",
        "(percent means out of 100: per --> out of:  cent --> 100)"
      ]
    },
    {
      "cell_type": "code",
      "metadata": {
        "id": "_CsoB0fOFiQ6",
        "colab": {
          "base_uri": "https://localhost:8080/",
          "height": 195
        },
        "outputId": "735e8e2b-a38a-4b51-f8f7-cf2aee7ea96a"
      },
      "source": [
        "shoes['Price paid'] = shoes['Price offered'] - (shoes['Price offered'] * shoes['Discount percent'] / 100)  # Calculate Price paid by working out the discount and subtracting this from the Price offered\n",
        "shoes.head()"
      ],
      "execution_count": null,
      "outputs": [
        {
          "output_type": "execute_result",
          "data": {
            "text/html": [
              "<div>\n",
              "<style scoped>\n",
              "    .dataframe tbody tr th:only-of-type {\n",
              "        vertical-align: middle;\n",
              "    }\n",
              "\n",
              "    .dataframe tbody tr th {\n",
              "        vertical-align: top;\n",
              "    }\n",
              "\n",
              "    .dataframe thead th {\n",
              "        text-align: right;\n",
              "    }\n",
              "</style>\n",
              "<table border=\"1\" class=\"dataframe\">\n",
              "  <thead>\n",
              "    <tr style=\"text-align: right;\">\n",
              "      <th></th>\n",
              "      <th>Name</th>\n",
              "      <th>Show</th>\n",
              "      <th>Unit price GBP</th>\n",
              "      <th>Quantity bought</th>\n",
              "      <th>Discount percent</th>\n",
              "      <th>Date</th>\n",
              "      <th>Price offered</th>\n",
              "      <th>Price paid</th>\n",
              "    </tr>\n",
              "  </thead>\n",
              "  <tbody>\n",
              "    <tr>\n",
              "      <th>0</th>\n",
              "      <td>Ash</td>\n",
              "      <td>Adidas continental 80</td>\n",
              "      <td>80.0</td>\n",
              "      <td>1</td>\n",
              "      <td>1</td>\n",
              "      <td>2020-01-10</td>\n",
              "      <td>80.0</td>\n",
              "      <td>79.2</td>\n",
              "    </tr>\n",
              "    <tr>\n",
              "      <th>1</th>\n",
              "      <td>Joe</td>\n",
              "      <td>Adidas Falcon</td>\n",
              "      <td>43.0</td>\n",
              "      <td>1</td>\n",
              "      <td>10</td>\n",
              "      <td>2020-06-10</td>\n",
              "      <td>43.0</td>\n",
              "      <td>38.7</td>\n",
              "    </tr>\n",
              "    <tr>\n",
              "      <th>2</th>\n",
              "      <td>Tom</td>\n",
              "      <td>Adidas Originals ZX 750</td>\n",
              "      <td>80.0</td>\n",
              "      <td>1</td>\n",
              "      <td>0</td>\n",
              "      <td>2020-11-10</td>\n",
              "      <td>80.0</td>\n",
              "      <td>80.0</td>\n",
              "    </tr>\n",
              "    <tr>\n",
              "      <th>3</th>\n",
              "      <td>Jack</td>\n",
              "      <td>Adidas Originals ZX Flux</td>\n",
              "      <td>80.0</td>\n",
              "      <td>1</td>\n",
              "      <td>10</td>\n",
              "      <td>2020-10-16</td>\n",
              "      <td>80.0</td>\n",
              "      <td>72.0</td>\n",
              "    </tr>\n",
              "    <tr>\n",
              "      <th>4</th>\n",
              "      <td>Will</td>\n",
              "      <td>Adidas Yeezy Boost 350 V2 Cloud White (Non-Ref...</td>\n",
              "      <td>300.0</td>\n",
              "      <td>1</td>\n",
              "      <td>0</td>\n",
              "      <td>2020-10-21</td>\n",
              "      <td>300.0</td>\n",
              "      <td>300.0</td>\n",
              "    </tr>\n",
              "  </tbody>\n",
              "</table>\n",
              "</div>"
            ],
            "text/plain": [
              "   Name  ... Price paid\n",
              "0   Ash  ...       79.2\n",
              "1   Joe  ...       38.7\n",
              "2   Tom  ...       80.0\n",
              "3  Jack  ...       72.0\n",
              "4  Will  ...      300.0\n",
              "\n",
              "[5 rows x 8 columns]"
            ]
          },
          "metadata": {
            "tags": []
          },
          "execution_count": 40
        }
      ]
    },
    {
      "cell_type": "markdown",
      "metadata": {
        "id": "QgHxd6-CXACV"
      },
      "source": [
        "## Convert dates to be Python date time objects.\n",
        "\n",
        "We are going to use the two variables below as dates to query the data but they are strings and need to be converted to date time objects. \n",
        "\n",
        "Google `pandas to_datetime`. Make sure you also choose the `dayfirst` parameter."
      ]
    },
    {
      "cell_type": "code",
      "metadata": {
        "id": "-stqjYV3INts",
        "colab": {
          "base_uri": "https://localhost:8080/"
        },
        "outputId": "87744130-06d2-4d90-d0eb-9998531df270"
      },
      "source": [
        "startdate_string = '01/01/2020'\n",
        "enddate_string = '31/12/2020'\n",
        "startdate = pd.to_datetime(startdate_string, dayfirst=True) # convert date strings to be Pandas datetime object (dayfirst means dd/mm/yyyy - European date format)\n",
        "enddate = pd.to_datetime(enddate_string, dayfirst=True)     # this is needed to make sure comparisons work later on\n",
        "enddate"
      ],
      "execution_count": null,
      "outputs": [
        {
          "output_type": "execute_result",
          "data": {
            "text/plain": [
              "Timestamp('2020-12-31 00:00:00')"
            ]
          },
          "metadata": {
            "tags": []
          },
          "execution_count": 41
        }
      ]
    },
    {
      "cell_type": "markdown",
      "metadata": {
        "id": "FMwMS7uvb4VQ"
      },
      "source": [
        "## Choose a name to search for\n",
        "\n",
        "This is just a string - no need to do anything to it."
      ]
    },
    {
      "cell_type": "code",
      "metadata": {
        "id": "4l8jDrBpa4_5"
      },
      "source": [
        "name = 'Jack'   # this is just a parameter we will use later"
      ],
      "execution_count": null,
      "outputs": []
    },
    {
      "cell_type": "markdown",
      "metadata": {
        "id": "knVi7d5hYdBr"
      },
      "source": [
        "## Search in the data frame for data between two dates and for the named person\n",
        "\n",
        "This can be done in one line of code but you can do it in more if it makes it easier.\n",
        "\n",
        "Hints: \n",
        "\n",
        "*   Google for `pandas loc`\n",
        "*   Use `<=` and `>=` and `==` for less than or equal, greater than or equal and equals\n",
        "*   Use `&` to logically AND things together\n",
        "*   Google `pandas .copy()` - this copies the answer to a new variable\n",
        "\n"
      ]
    },
    {
      "cell_type": "code",
      "metadata": {
        "id": "HiOgkYnKGr_3",
        "colab": {
          "base_uri": "https://localhost:8080/",
          "height": 106
        },
        "outputId": "e0af49ab-7124-4855-f283-d58ca2c4a4ca"
      },
      "source": [
        "tf = (shoes['Date'] >= startdate) & (shoes['Date'] <= enddate) & (shoes['Name'] == name)  # this is an array of True/False\n",
        "oneyear_shoes = shoes.loc[tf].copy()   # we use the true/false flags with the .loc function to select the rows we want. \n",
        "# This is a new data frame \n",
        "oneyear_shoes"
      ],
      "execution_count": null,
      "outputs": [
        {
          "output_type": "execute_result",
          "data": {
            "text/html": [
              "<div>\n",
              "<style scoped>\n",
              "    .dataframe tbody tr th:only-of-type {\n",
              "        vertical-align: middle;\n",
              "    }\n",
              "\n",
              "    .dataframe tbody tr th {\n",
              "        vertical-align: top;\n",
              "    }\n",
              "\n",
              "    .dataframe thead th {\n",
              "        text-align: right;\n",
              "    }\n",
              "</style>\n",
              "<table border=\"1\" class=\"dataframe\">\n",
              "  <thead>\n",
              "    <tr style=\"text-align: right;\">\n",
              "      <th></th>\n",
              "      <th>Name</th>\n",
              "      <th>Show</th>\n",
              "      <th>Unit price GBP</th>\n",
              "      <th>Quantity bought</th>\n",
              "      <th>Discount percent</th>\n",
              "      <th>Date</th>\n",
              "      <th>Price offered</th>\n",
              "      <th>Price paid</th>\n",
              "    </tr>\n",
              "  </thead>\n",
              "  <tbody>\n",
              "    <tr>\n",
              "      <th>3</th>\n",
              "      <td>Jack</td>\n",
              "      <td>Adidas Originals ZX Flux</td>\n",
              "      <td>80.0</td>\n",
              "      <td>1</td>\n",
              "      <td>10</td>\n",
              "      <td>2020-10-16</td>\n",
              "      <td>80.0</td>\n",
              "      <td>72.0</td>\n",
              "    </tr>\n",
              "    <tr>\n",
              "      <th>14</th>\n",
              "      <td>Jack</td>\n",
              "      <td>EMPORIO ARMANI Shoes</td>\n",
              "      <td>155.0</td>\n",
              "      <td>1</td>\n",
              "      <td>0</td>\n",
              "      <td>2020-10-12</td>\n",
              "      <td>155.0</td>\n",
              "      <td>155.0</td>\n",
              "    </tr>\n",
              "  </tbody>\n",
              "</table>\n",
              "</div>"
            ],
            "text/plain": [
              "    Name                      Show  ...  Price offered  Price paid\n",
              "3   Jack  Adidas Originals ZX Flux  ...           80.0        72.0\n",
              "14  Jack      EMPORIO ARMANI Shoes  ...          155.0       155.0\n",
              "\n",
              "[2 rows x 8 columns]"
            ]
          },
          "metadata": {
            "tags": []
          },
          "execution_count": 43
        }
      ]
    },
    {
      "cell_type": "markdown",
      "metadata": {
        "id": "ANXA39QBYp_4"
      },
      "source": [
        "## Find the total price paid for the named person between the dates\n",
        "\n",
        "Use `sum()` to add entire columns."
      ]
    },
    {
      "cell_type": "code",
      "metadata": {
        "id": "it4MrAd_SUyS",
        "colab": {
          "base_uri": "https://localhost:8080/"
        },
        "outputId": "494ea8cf-6cdd-4949-e410-9ad704681be9"
      },
      "source": [
        "total = oneyear_shoes['Price paid'].sum()  # sum the Price paid in the new data frame we made above\n",
        "total"
      ],
      "execution_count": null,
      "outputs": [
        {
          "output_type": "execute_result",
          "data": {
            "text/plain": [
              "227.0"
            ]
          },
          "metadata": {
            "tags": []
          },
          "execution_count": 44
        }
      ]
    },
    {
      "cell_type": "markdown",
      "metadata": {
        "id": "_DHoAc_uf2HF"
      },
      "source": [
        "## Sort the data by `Date`\n",
        "\n",
        "Google `pandas sort_values`. Also use the `inplace` parameter."
      ]
    },
    {
      "cell_type": "code",
      "metadata": {
        "id": "l3qgjsvbc-EV",
        "colab": {
          "base_uri": "https://localhost:8080/",
          "height": 106
        },
        "outputId": "4365afc6-1929-4ac8-94ed-6d7d2d18f7bf"
      },
      "source": [
        "oneyear_shoes.sort_values(by='Date', inplace=True)  # This sorts in the original dataframe (inplace = True)\n",
        "oneyear_shoes"
      ],
      "execution_count": null,
      "outputs": [
        {
          "output_type": "execute_result",
          "data": {
            "text/html": [
              "<div>\n",
              "<style scoped>\n",
              "    .dataframe tbody tr th:only-of-type {\n",
              "        vertical-align: middle;\n",
              "    }\n",
              "\n",
              "    .dataframe tbody tr th {\n",
              "        vertical-align: top;\n",
              "    }\n",
              "\n",
              "    .dataframe thead th {\n",
              "        text-align: right;\n",
              "    }\n",
              "</style>\n",
              "<table border=\"1\" class=\"dataframe\">\n",
              "  <thead>\n",
              "    <tr style=\"text-align: right;\">\n",
              "      <th></th>\n",
              "      <th>Name</th>\n",
              "      <th>Show</th>\n",
              "      <th>Unit price GBP</th>\n",
              "      <th>Quantity bought</th>\n",
              "      <th>Discount percent</th>\n",
              "      <th>Date</th>\n",
              "      <th>Price offered</th>\n",
              "      <th>Price paid</th>\n",
              "    </tr>\n",
              "  </thead>\n",
              "  <tbody>\n",
              "    <tr>\n",
              "      <th>14</th>\n",
              "      <td>Jack</td>\n",
              "      <td>EMPORIO ARMANI Shoes</td>\n",
              "      <td>155.0</td>\n",
              "      <td>1</td>\n",
              "      <td>0</td>\n",
              "      <td>2020-10-12</td>\n",
              "      <td>155.0</td>\n",
              "      <td>155.0</td>\n",
              "    </tr>\n",
              "    <tr>\n",
              "      <th>3</th>\n",
              "      <td>Jack</td>\n",
              "      <td>Adidas Originals ZX Flux</td>\n",
              "      <td>80.0</td>\n",
              "      <td>1</td>\n",
              "      <td>10</td>\n",
              "      <td>2020-10-16</td>\n",
              "      <td>80.0</td>\n",
              "      <td>72.0</td>\n",
              "    </tr>\n",
              "  </tbody>\n",
              "</table>\n",
              "</div>"
            ],
            "text/plain": [
              "    Name                      Show  ...  Price offered  Price paid\n",
              "14  Jack      EMPORIO ARMANI Shoes  ...          155.0       155.0\n",
              "3   Jack  Adidas Originals ZX Flux  ...           80.0        72.0\n",
              "\n",
              "[2 rows x 8 columns]"
            ]
          },
          "metadata": {
            "tags": []
          },
          "execution_count": 45
        }
      ]
    },
    {
      "cell_type": "markdown",
      "metadata": {
        "id": "L4270SqjgJr9"
      },
      "source": [
        "## Plot the price paid by date\n",
        "\n",
        "Hints\n",
        "\n",
        "*   Try `plt.scatter`\n",
        "*   Try `plt.bar`\n",
        "*   `plt.xticks` with a rotation changes the angle of the axes\n",
        "*   `plt.title` makes a title\n",
        "*   `plt.show` shows the plot\n",
        "\n",
        "\n",
        "\n",
        "\n",
        "\n"
      ]
    },
    {
      "cell_type": "code",
      "metadata": {
        "id": "5jLrXxKpY7F0",
        "colab": {
          "base_uri": "https://localhost:8080/",
          "height": 329
        },
        "outputId": "79af5fc7-d82a-459f-8af2-66a28183f2f3"
      },
      "source": [
        "plt.scatter(oneyear_shoes['Date'], oneyear_shoes['Price paid'])  # A scatter plot of price paid by date - the first parameter is the X axis, the second is the Y axis\n",
        "plt.bar(oneyear_shoes['Date'], oneyear_shoes['Price paid'])      # we add a bar plot to the same graph\n",
        "plt.xticks(rotation=90)  # Rotate the axis\n",
        "plt.title('Transactions by ' + name + ' between ' + startdate_string + ' and ' + enddate_string + '. ' + str(total) + ' in total')  # A nice title\n",
        "plt.show()  # to show the graph"
      ],
      "execution_count": null,
      "outputs": [
        {
          "output_type": "display_data",
          "data": {
            "image/png": "[encoded data removed]",
            "text/plain": [
              "<Figure size 432x288 with 1 Axes>"
            ]
          },
          "metadata": {
            "tags": [],
            "needs_background": "light"
          }
        }
      ]
    },
    {
      "cell_type": "code",
      "metadata": {
        "colab": {
          "base_uri": "https://localhost:8080/",
          "height": 316
        },
        "id": "ewWGGKlX0r9T",
        "outputId": "ce0864c9-97e9-444d-f37a-aed296a63289"
      },
      "source": [
        "plt.plot(oneyear_shoes['Date'], oneyear_shoes['Price paid'])      # we add a line plot\n",
        "plt.xticks(rotation=90)  # Rotate the axis\n",
        "plt.title('Transactions by ' + name + ' between ' + startdate_string + ' and ' + enddate_string + '. ' + str(total) + ' in total')  # A nice title\n",
        "plt.show()  # to show the graph"
      ],
      "execution_count": null,
      "outputs": [
        {
          "output_type": "display_data",
          "data": {
            "image/png": "[encoded data removed]",
            "text/plain": [
              "<Figure size 432x288 with 1 Axes>"
            ]
          },
          "metadata": {
            "tags": [],
            "needs_background": "light"
          }
        }
      ]
    },
    {
      "cell_type": "markdown",
      "metadata": {
        "id": "q7dL30YCaGYj"
      },
      "source": [
        "## Plot all names for all time using different colours (advanced)\n",
        "\n",
        "Hints\n",
        "\n",
        "*   Google `plt.subplots`\n",
        "*   Google `pandas groupby` to group data for different names together\n",
        "*   Google iterating over a group to work out how to plot each group one by one\n",
        "\n",
        "\n",
        "\n"
      ]
    },
    {
      "cell_type": "code",
      "metadata": {
        "id": "ngWmfVq4Zqil",
        "colab": {
          "base_uri": "https://localhost:8080/",
          "height": 297
        },
        "outputId": "98f43262-26b8-47a9-bf26-18304b9a41c5"
      },
      "source": [
        "fig, ax = plt.subplots(figsize=(10,4)) # more complicated - this sets the size \n",
        "for key, grp in shoes.groupby(['Name']):  # this for loop prints a graph for each name in the shoes data frame - it will go round as many times as there are unique names\n",
        "    ax.scatter(grp['Date'], grp['Price paid'], label=key)  # the graph is date and price paid\n",
        "\n",
        "ax.legend()  # add a legend\n",
        "plt.xticks(rotation=90) # Rotate axis\n",
        "plt.show() # show the plot"
      ],
      "execution_count": null,
      "outputs": [
        {
          "output_type": "display_data",
          "data": {
            "image/png": "[encoded data removed]",
            "text/plain": [
              "<Figure size 720x288 with 1 Axes>"
            ]
          },
          "metadata": {
            "tags": [],
            "needs_background": "light"
          }
        }
      ]
    }
  ]
}