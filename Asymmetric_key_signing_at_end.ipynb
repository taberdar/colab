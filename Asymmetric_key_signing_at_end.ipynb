{
  "nbformat": 4,
  "nbformat_minor": 0,
  "metadata": {
    "colab": {
      "name": "Asymmetric key - signing at end",
      "provenance": [],
      "collapsed_sections": [
        "FvBZtQvFx17v",
        "Zo0FlKosx6_t",
        "C8L9HmVbyBL8",
        "L2WXnPVyyeIx",
        "dcNP_DHPynbi"
      ],
      "toc_visible": true,
      "authorship_tag": "ABX9TyOE61EI7DSXrU2rdYWluqOM",
      "include_colab_link": true
    },
    "kernelspec": {
      "name": "python3",
      "display_name": "Python 3"
    }
  },
  "cells": [
    {
      "cell_type": "markdown",
      "metadata": {
        "id": "view-in-github",
        "colab_type": "text"
      },
      "source": [
        "<a href=\"https://colab.research.google.com/github/taberdar/colab/blob/main/Asymmetric_key_signing_at_end.ipynb\" target=\"_parent\"><img src=\"https://colab.research.google.com/assets/colab-badge.svg\" alt=\"Open In Colab\"/></a>"
      ]
    },
    {
      "cell_type": "markdown",
      "metadata": {
        "id": "prZYoL-kxoBZ"
      },
      "source": [
        "\n",
        "# Asymmetric key demonstration\n",
        "\n"
      ]
    },
    {
      "cell_type": "markdown",
      "metadata": {
        "id": "fyC5UgYexyBF"
      },
      "source": [
        "# Run this first"
      ]
    },
    {
      "cell_type": "code",
      "metadata": {
        "id": "6VZdyCX3jAVz"
      },
      "source": [
        "import rsa\n",
        "def asymmetric_encrypt(message, text_public_key):\n",
        "  public_key = rsa.PublicKey.load_pkcs1(text_public_key)\n",
        "  return rsa.encrypt(message.encode('utf8'), public_key).hex()\n",
        "\n",
        "def asymmetric_decrypt(messageinhex, private_key):\n",
        "  return rsa.decrypt(bytes.fromhex(messageinhex), private_key).decode('utf8')\n",
        "\n",
        "def asymmetric_sign(message, private_key):\n",
        "  return rsa.sign(message.encode('utf8'), private_key, 'SHA-1').hex()\n",
        "\n",
        "def asymmetric_check(message, signatureinhex, text_public_key):\n",
        "  public_key = rsa.PublicKey.load_pkcs1(text_public_key)\n",
        "  return rsa.verify(message.encode('utf8'), bytes.fromhex(signatureinhex), public_key)\n",
        "\n",
        "def make_public_key(publickey):\n",
        "  ff=publickey.save_pkcs1()\n",
        "  return(ff.decode('utf8'))\n",
        "\n",
        "def read_public_text_key(publickeytext):\n",
        "  key=rsa.PublicKey.load_pkcs1(publickeytext.encode('utf8'))\n",
        "  return(key)\n",
        "\n",
        "def generate_keys(keysize):\n",
        "  (public, private) = rsa.newkeys(keysize)\n",
        "  publictext = public.save_pkcs1().decode('utf8')\n",
        "  return publictext, public, private\n",
        "  \n",
        "keysize = 512  # In real life we would use a keysize of more than 2048"
      ],
      "execution_count": null,
      "outputs": []
    },
    {
      "cell_type": "markdown",
      "metadata": {
        "id": "Nefb-mni6-AT"
      },
      "source": [
        "# Try it yourself"
      ]
    },
    {
      "cell_type": "markdown",
      "metadata": {
        "id": "sPrgCIZl76Pj"
      },
      "source": [
        "## Publish your public keys"
      ]
    },
    {
      "cell_type": "code",
      "metadata": {
        "id": "Wi8tKazvzzI7"
      },
      "source": [
        "(my_pub_text, my_public_key, my_private_key) = generate_keys(keysize)\n",
        "# announce public keys to Google Classroom \n",
        "# Copy the text below and paste it into the Google Classroom announcements\n",
        "print(my_pub_text)"
      ],
      "execution_count": null,
      "outputs": []
    },
    {
      "cell_type": "markdown",
      "metadata": {
        "id": "FBhPfJ7WRsNG"
      },
      "source": [
        "# Copy a key from Google Classroom"
      ]
    },
    {
      "cell_type": "code",
      "metadata": {
        "id": "KY4Js9eFPMtc"
      },
      "source": [
        "# Copy a public key from Google Classroom\n",
        "# and put it into a variable called key\n",
        "key = \"\"\"\n",
        "-----BEGIN RSA PUBLIC KEY-----\n",
        "MEgCQQCZVcDe/wa9pXgifK0yI8zrrjQz4iTdv8VYu81bI6rV8NCuZ3Hjj6G3qjYY\n",
        "8M1P8EbLebyvEoHXjURBGzIPSbmHAgMBAAE=\n",
        "-----END RSA PUBLIC KEY-----\n",
        "\"\"\"\n",
        "print(key)"
      ],
      "execution_count": null,
      "outputs": []
    },
    {
      "cell_type": "code",
      "metadata": {
        "id": "wxBqAP47QN8_"
      },
      "source": [
        "# Now we can encrypt messages for that person with the public key\n",
        "message = 'A message for the person with the public key'\n",
        "message_for_person_with_public_key = asymmetric_encrypt(message, key)\n",
        "print(message_for_person_with_public_key)"
      ],
      "execution_count": null,
      "outputs": []
    },
    {
      "cell_type": "markdown",
      "metadata": {
        "id": "HaK-EQ-48CER"
      },
      "source": [
        "## Decrypt a message for you"
      ]
    },
    {
      "cell_type": "code",
      "metadata": {
        "id": "KEpEmjd03RdK"
      },
      "source": [
        "# Wait for someone to send you a message encrypted with your public key\n",
        "# it will look a bit like this - copy it from Google Classroom - you will need to do this.\n",
        "encrypted_message_for_you = '19cec02c294ee7cd44f57701928cf5e30bb26dea516545939051b36bc64e45a1549e3fe8d0c925241e6f665ec3c2d508f06b5fbcb8058dee4e1b38afceb57c9b'\n",
        "\n",
        "message = asymmetric_decrypt(encrypted_message_for_you, my_private_key)\n",
        "print(message)"
      ],
      "execution_count": null,
      "outputs": []
    },
    {
      "cell_type": "markdown",
      "metadata": {
        "id": "y5BtUB2u_EVR"
      },
      "source": [
        "# Full worked example for reference"
      ]
    },
    {
      "cell_type": "markdown",
      "metadata": {
        "id": "FvBZtQvFx17v"
      },
      "source": [
        "## Generate some keys"
      ]
    },
    {
      "cell_type": "code",
      "metadata": {
        "id": "a2uRUb-6jOUs"
      },
      "source": [
        "# Generate some keys\n",
        "# It's always Alice, Bob and Charlie in the crypto world.\n",
        "(alice_pub_text, alice_pub, alice_priv) = generate_keys(keysize)\n",
        "(bob_pub_text, bob_pub, bob_priv) = generate_keys(keysize)\n",
        "(charlie_pub_text, charlie_pub, charlie_priv) = generate_keys(keysize)\n",
        "print(\"Alice's public key\")\n",
        "print(alice_pub_text)\n",
        "print()\n",
        "print(\"Bob's public key\")\n",
        "print(bob_pub_text)\n",
        "print()\n",
        "print(\"Charlie's public key\")\n",
        "print(charlie_pub_text)\n"
      ],
      "execution_count": null,
      "outputs": []
    },
    {
      "cell_type": "markdown",
      "metadata": {
        "id": "Zo0FlKosx6_t"
      },
      "source": [
        "## Send a message for Bob alone\n",
        "\n",
        "\n",
        "\n"
      ]
    },
    {
      "cell_type": "code",
      "metadata": {
        "id": "MfKIoeHFjc2Y"
      },
      "source": [
        "# We want to send a message to Bob\n",
        "message = 'hello Bob!'\n",
        "print(message)"
      ],
      "execution_count": null,
      "outputs": []
    },
    {
      "cell_type": "code",
      "metadata": {
        "id": "PDQ_cDc33Dr_"
      },
      "source": [
        "# We encrypt with Bob's public key\n",
        "messageForBobEncrypted = asymmetric_encrypt(message, bob_pub_text)\n",
        "messageForBobEncrypted"
      ],
      "execution_count": null,
      "outputs": []
    },
    {
      "cell_type": "code",
      "metadata": {
        "id": "UWzqxG183dNj"
      },
      "source": [
        "# Bob decrypts with his private key\n",
        "messageForBobDecrypted = asymmetric_decrypt(messageForBobEncrypted, bob_priv)\n",
        "print(messageForBobDecrypted)"
      ],
      "execution_count": null,
      "outputs": []
    },
    {
      "cell_type": "markdown",
      "metadata": {
        "id": "C8L9HmVbyBL8"
      },
      "source": [
        "## Charlie can't read the message for Bob"
      ]
    },
    {
      "cell_type": "code",
      "metadata": {
        "id": "qsM857rE9LTM"
      },
      "source": [
        "# Charlie can't use her key to decrypt\n",
        "asymmetric_decrypt(messageForBobEncrypted, charlie_priv)"
      ],
      "execution_count": null,
      "outputs": []
    },
    {
      "cell_type": "markdown",
      "metadata": {
        "id": "L2WXnPVyyeIx"
      },
      "source": [
        "## The message can't be tampered with"
      ]
    },
    {
      "cell_type": "code",
      "metadata": {
        "id": "RRDiksTW9zNc"
      },
      "source": [
        "#If we tamper with the message, we get an error\n",
        "tampered = '00'+ messageForBobEncrypted[2:]\n",
        "print(tampered)\n",
        "asymmetric_decrypt(tampered, bob_priv)"
      ],
      "execution_count": null,
      "outputs": []
    },
    {
      "cell_type": "markdown",
      "metadata": {
        "id": "dcNP_DHPynbi"
      },
      "source": [
        "# Signing messages (optional)"
      ]
    },
    {
      "cell_type": "code",
      "metadata": {
        "id": "UJaqBzc1AOXV",
        "colab": {
          "base_uri": "https://localhost:8080/"
        },
        "outputId": "8b1fabd3-5922-4e53-e117-37f4901cbece"
      },
      "source": [
        "# We can sign messages so that the recipient knows it was from the sender\n",
        "# So Alice is sending something that she is asserting was sent by her\n",
        "# She uses her private key to do this\n",
        "messagefromalice = 'Message from Alice'\n",
        "signature = asymmetric_sign(messagefromalice, alice_priv)\n",
        "print(messagefromalice)\n",
        "print(\"The signature of the message is:\", signature)"
      ],
      "execution_count": null,
      "outputs": [
        {
          "output_type": "stream",
          "text": [
            "Message from Alice\n",
            "The signature of the message is: 49b9c42a8fabea1a8c02e770d6460b8634eaba6f66e576727de251951bbf96fdc1323c27602dd99b8a9370514ce1ab7e90f27c001da884a20797bc31f2c94bab\n"
          ],
          "name": "stdout"
        }
      ]
    },
    {
      "cell_type": "code",
      "metadata": {
        "id": "we4gXhuVBhmI",
        "colab": {
          "base_uri": "https://localhost:8080/",
          "height": 52
        },
        "outputId": "ec3987ac-a211-4248-bdf5-14b4921a2e71"
      },
      "source": [
        "# We can confirm that Alice created a signature of the message\n",
        "# by using Alice's public key\n",
        "print(messagefromalice)\n",
        "'OK' if asymmetric_check(messagefromalice, signature, alice_pub_text) == 'SHA-1' else 'Not OK!'"
      ],
      "execution_count": null,
      "outputs": [
        {
          "output_type": "stream",
          "text": [
            "Message from Alice\n"
          ],
          "name": "stdout"
        },
        {
          "output_type": "execute_result",
          "data": {
            "application/vnd.google.colaboratory.intrinsic+json": {
              "type": "string"
            },
            "text/plain": [
              "'OK'"
            ]
          },
          "metadata": {
            "tags": []
          },
          "execution_count": 131
        }
      ]
    },
    {
      "cell_type": "code",
      "metadata": {
        "id": "nGxYGgFLDZXM",
        "colab": {
          "base_uri": "https://localhost:8080/",
          "height": 357
        },
        "outputId": "5570bbad-a96e-4bf8-fe67-90c3addb02d2"
      },
      "source": [
        "# If the message is tampered with then the signature check fails\n",
        "messagefromalice = \"This wasn't from Alice\"\n",
        "print(messagefromalice)\n",
        "asymmetric_check(messagefromalice, signature, alice_pub_text)"
      ],
      "execution_count": null,
      "outputs": [
        {
          "output_type": "stream",
          "text": [
            "This wasn't from Alice\n"
          ],
          "name": "stdout"
        },
        {
          "output_type": "error",
          "ename": "VerificationError",
          "evalue": "ignored",
          "traceback": [
            "\u001b[0;31m---------------------------------------------------------------------------\u001b[0m",
            "\u001b[0;31mVerificationError\u001b[0m                         Traceback (most recent call last)",
            "\u001b[0;32m<ipython-input-132-5cf4bca17c56>\u001b[0m in \u001b[0;36m<module>\u001b[0;34m()\u001b[0m\n\u001b[1;32m      2\u001b[0m \u001b[0mmessagefromalice\u001b[0m \u001b[0;34m=\u001b[0m \u001b[0;34m\"This wasn't from Alice\"\u001b[0m\u001b[0;34m\u001b[0m\u001b[0;34m\u001b[0m\u001b[0m\n\u001b[1;32m      3\u001b[0m \u001b[0mprint\u001b[0m\u001b[0;34m(\u001b[0m\u001b[0mmessagefromalice\u001b[0m\u001b[0;34m)\u001b[0m\u001b[0;34m\u001b[0m\u001b[0;34m\u001b[0m\u001b[0m\n\u001b[0;32m----> 4\u001b[0;31m \u001b[0masymmetric_check\u001b[0m\u001b[0;34m(\u001b[0m\u001b[0mmessagefromalice\u001b[0m\u001b[0;34m,\u001b[0m \u001b[0msignature\u001b[0m\u001b[0;34m,\u001b[0m \u001b[0malice_pub_text\u001b[0m\u001b[0;34m)\u001b[0m\u001b[0;34m\u001b[0m\u001b[0;34m\u001b[0m\u001b[0m\n\u001b[0m",
            "\u001b[0;32m<ipython-input-112-e4b87c14e506>\u001b[0m in \u001b[0;36masymmetric_check\u001b[0;34m(message, signatureinhex, text_public_key)\u001b[0m\n\u001b[1;32m     12\u001b[0m \u001b[0;32mdef\u001b[0m \u001b[0masymmetric_check\u001b[0m\u001b[0;34m(\u001b[0m\u001b[0mmessage\u001b[0m\u001b[0;34m,\u001b[0m \u001b[0msignatureinhex\u001b[0m\u001b[0;34m,\u001b[0m \u001b[0mtext_public_key\u001b[0m\u001b[0;34m)\u001b[0m\u001b[0;34m:\u001b[0m\u001b[0;34m\u001b[0m\u001b[0;34m\u001b[0m\u001b[0m\n\u001b[1;32m     13\u001b[0m   \u001b[0mpublic_key\u001b[0m \u001b[0;34m=\u001b[0m \u001b[0mrsa\u001b[0m\u001b[0;34m.\u001b[0m\u001b[0mPublicKey\u001b[0m\u001b[0;34m.\u001b[0m\u001b[0mload_pkcs1\u001b[0m\u001b[0;34m(\u001b[0m\u001b[0mtext_public_key\u001b[0m\u001b[0;34m)\u001b[0m\u001b[0;34m\u001b[0m\u001b[0;34m\u001b[0m\u001b[0m\n\u001b[0;32m---> 14\u001b[0;31m   \u001b[0;32mreturn\u001b[0m \u001b[0mrsa\u001b[0m\u001b[0;34m.\u001b[0m\u001b[0mverify\u001b[0m\u001b[0;34m(\u001b[0m\u001b[0mmessage\u001b[0m\u001b[0;34m.\u001b[0m\u001b[0mencode\u001b[0m\u001b[0;34m(\u001b[0m\u001b[0;34m'utf8'\u001b[0m\u001b[0;34m)\u001b[0m\u001b[0;34m,\u001b[0m \u001b[0mbytes\u001b[0m\u001b[0;34m.\u001b[0m\u001b[0mfromhex\u001b[0m\u001b[0;34m(\u001b[0m\u001b[0msignatureinhex\u001b[0m\u001b[0;34m)\u001b[0m\u001b[0;34m,\u001b[0m \u001b[0mpublic_key\u001b[0m\u001b[0;34m)\u001b[0m\u001b[0;34m\u001b[0m\u001b[0;34m\u001b[0m\u001b[0m\n\u001b[0m\u001b[1;32m     15\u001b[0m \u001b[0;34m\u001b[0m\u001b[0m\n\u001b[1;32m     16\u001b[0m \u001b[0;32mdef\u001b[0m \u001b[0mmake_public_key\u001b[0m\u001b[0;34m(\u001b[0m\u001b[0mpublickey\u001b[0m\u001b[0;34m)\u001b[0m\u001b[0;34m:\u001b[0m\u001b[0;34m\u001b[0m\u001b[0;34m\u001b[0m\u001b[0m\n",
            "\u001b[0;32m/usr/local/lib/python3.7/dist-packages/rsa/pkcs1.py\u001b[0m in \u001b[0;36mverify\u001b[0;34m(message, signature, pub_key)\u001b[0m\n\u001b[1;32m    365\u001b[0m     \u001b[0;31m# Compare with the signed one\u001b[0m\u001b[0;34m\u001b[0m\u001b[0;34m\u001b[0m\u001b[0;34m\u001b[0m\u001b[0m\n\u001b[1;32m    366\u001b[0m     \u001b[0;32mif\u001b[0m \u001b[0mexpected\u001b[0m \u001b[0;34m!=\u001b[0m \u001b[0mclearsig\u001b[0m\u001b[0;34m:\u001b[0m\u001b[0;34m\u001b[0m\u001b[0;34m\u001b[0m\u001b[0m\n\u001b[0;32m--> 367\u001b[0;31m         \u001b[0;32mraise\u001b[0m \u001b[0mVerificationError\u001b[0m\u001b[0;34m(\u001b[0m\u001b[0;34m'Verification failed'\u001b[0m\u001b[0;34m)\u001b[0m\u001b[0;34m\u001b[0m\u001b[0;34m\u001b[0m\u001b[0m\n\u001b[0m\u001b[1;32m    368\u001b[0m \u001b[0;34m\u001b[0m\u001b[0m\n\u001b[1;32m    369\u001b[0m     \u001b[0;32mreturn\u001b[0m \u001b[0mmethod_name\u001b[0m\u001b[0;34m\u001b[0m\u001b[0;34m\u001b[0m\u001b[0m\n",
            "\u001b[0;31mVerificationError\u001b[0m: Verification failed"
          ]
        }
      ]
    },
    {
      "cell_type": "code",
      "metadata": {
        "id": "QbxUi9uVIeE5",
        "colab": {
          "base_uri": "https://localhost:8080/"
        },
        "outputId": "01c10655-dfe6-437b-be75-9bbfd7fd195f"
      },
      "source": [
        "# Normally we would sign a message then encrypt it\n",
        "# with the public key of the intended recipient\n",
        "# and we would send both to the intended recipient\n",
        "mm = 'New secret message definitely from Alice'\n",
        "sign = asymmetric_sign(mm, alice_priv)\n",
        "ee = asymmetric_encrypt(mm, bob_pub_text)\n",
        "\n",
        "print(mm)\n",
        "print(sign)\n",
        "print(ee)"
      ],
      "execution_count": null,
      "outputs": [
        {
          "output_type": "stream",
          "text": [
            "New secret message definitely from Alice\n",
            "057999ff1ec509d2361c3aef41964792c80082785cffdca20866411995680ffe6c297594f3471099c57ecb384aa0aef0edb9b7a68c4561e519da0ba1ce536d99\n",
            "93f1bef01a34dda87b37d57a9643c5269378a121ecff33392e0d882617a32fa2604ecbc910d094de277eae24677a7db18c167a689c99a96ca3221fd2b0c9e020\n"
          ],
          "name": "stdout"
        }
      ]
    },
    {
      "cell_type": "code",
      "metadata": {
        "id": "--WrhTz9JOa6",
        "colab": {
          "base_uri": "https://localhost:8080/",
          "height": 52
        },
        "outputId": "5c617943-04f4-4b59-fd9e-975a9d6339f1"
      },
      "source": [
        "# The recipient would decrypt it the message\n",
        "# then check the signature\n",
        "dd = asymmetric_decrypt(ee, bob_priv)\n",
        "fromalice = asymmetric_check(dd, sign, alice_pub_text)\n",
        "print(dd)\n",
        "'Confirmed from Alice' if fromalice == 'SHA-1' else 'Not from Alice!'"
      ],
      "execution_count": null,
      "outputs": [
        {
          "output_type": "stream",
          "text": [
            "New secret message definitely from Alice\n"
          ],
          "name": "stdout"
        },
        {
          "output_type": "execute_result",
          "data": {
            "application/vnd.google.colaboratory.intrinsic+json": {
              "type": "string"
            },
            "text/plain": [
              "'Confirmed from Alice'"
            ]
          },
          "metadata": {
            "tags": []
          },
          "execution_count": 134
        }
      ]
    }
  ]
}